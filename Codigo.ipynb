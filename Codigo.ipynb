{
 "cells": [
  {
   "cell_type": "code",
   "execution_count": 10,
   "metadata": {},
   "outputs": [
    {
     "name": "stderr",
     "output_type": "stream",
     "text": [
      "Warning message:\n",
      "\"package 'ggmap' was built under R version 3.6.3\"Google's Terms of Service: https://cloud.google.com/maps-platform/terms/.\n",
      "Please cite ggmap if you use it! See citation(\"ggmap\") for details.\n"
     ]
    }
   ],
   "source": [
    "library(dplyr)\n",
    "library(ggplot2)\n",
    "library(gridExtra)\n",
    "library(lubridate)\n",
    "library(scales)\n",
    "library(ggmap)"
   ]
  },
  {
   "cell_type": "code",
   "execution_count": 14,
   "metadata": {},
   "outputs": [],
   "source": [
    "account <- tbl_df(read.csv(\"account.asc\", sep = \";\", stringsAsFactors = FALSE))\n",
    "card <- tbl_df(read.csv(\"card.asc\", sep = \";\", stringsAsFactors = FALSE))\n",
    "client <- tbl_df(read.csv(\"client.asc\", sep = \";\", stringsAsFactors = FALSE))\n",
    "disp <- tbl_df(read.csv(\"disp.asc\", sep = \";\", stringsAsFactors = FALSE))\n",
    "district <- tbl_df(read.csv(\"district.asc\", sep = \";\", stringsAsFactors = FALSE))\n",
    "loan <- tbl_df(read.csv(\"loan.asc\", sep = \";\", stringsAsFactors = FALSE))\n",
    "order <- tbl_df(read.csv(\"order.asc\", sep = \";\", stringsAsFactors = FALSE))\n",
    "trans <- tbl_df(read.csv(\"trans.asc\", sep = \";\", stringsAsFactors = FALSE))"
   ]
  },
  {
   "cell_type": "code",
   "execution_count": null,
   "metadata": {},
   "outputs": [],
   "source": []
  }
 ],
 "metadata": {
  "kernelspec": {
   "display_name": "R",
   "language": "R",
   "name": "ir"
  },
  "language_info": {
   "codemirror_mode": "r",
   "file_extension": ".r",
   "mimetype": "text/x-r-source",
   "name": "R",
   "pygments_lexer": "r",
   "version": "3.6.1"
  }
 },
 "nbformat": 4,
 "nbformat_minor": 4
}
